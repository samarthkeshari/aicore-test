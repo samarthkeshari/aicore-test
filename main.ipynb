{
 "cells": [
  {
   "cell_type": "code",
   "execution_count": 1,
   "metadata": {},
   "outputs": [],
   "source": [
    "from ai_api_client_sdk.ai_api_v2_client import AIAPIV2Client\n",
    "import json"
   ]
  },
  {
   "cell_type": "code",
   "execution_count": 2,
   "metadata": {},
   "outputs": [],
   "source": [
    "# Your service key JSON file relative to this notebook\n",
    "aic_service_key_path = 'files/aicore-servicekey.json'\n",
    "\n",
    "# Loads the service key file\n",
    "with open(aic_service_key_path) as ask:\n",
    "    aic_service_key = json.load(ask)\n",
    "\n",
    "# Creating an AI API client instance\n",
    "ai_api_client = AIAPIV2Client(\n",
    "    base_url = aic_service_key[\"serviceurls\"][\"AI_API_URL\"] + \"/v2\", # The present AI API version is 2\n",
    "    auth_url=  aic_service_key[\"url\"] + \"/oauth/token\",\n",
    "    client_id = aic_service_key['clientid'],\n",
    "    client_secret = aic_service_key['clientsecret']\n",
    ")"
   ]
  },
  {
   "cell_type": "code",
   "execution_count": 4,
   "metadata": {},
   "outputs": [
    {
     "ename": "TypeError",
     "evalue": "get() got an unexpected keyword argument 'body'",
     "output_type": "error",
     "traceback": [
      "\u001b[0;31m---------------------------------------------------------------------------\u001b[0m",
      "\u001b[0;31mTypeError\u001b[0m                                 Traceback (most recent call last)",
      "\u001b[0;32m/var/folders/gl/np8s5wbs3qd0d8gclsq_45nh0000gn/T/ipykernel_89258/3902359595.py\u001b[0m in \u001b[0;36m<module>\u001b[0;34m\u001b[0m\n\u001b[1;32m     16\u001b[0m                                 \u001b[0;34m\"url\"\u001b[0m\u001b[0;34m:\u001b[0m \u001b[0mrepo_json\u001b[0m\u001b[0;34m[\u001b[0m\u001b[0;34m\"url\"\u001b[0m\u001b[0;34m]\u001b[0m\u001b[0;34m,\u001b[0m\u001b[0;34m\u001b[0m\u001b[0;34m\u001b[0m\u001b[0m\n\u001b[1;32m     17\u001b[0m                                 \u001b[0;34m\"username\"\u001b[0m\u001b[0;34m:\u001b[0m \u001b[0mrepo_json\u001b[0m\u001b[0;34m[\u001b[0m\u001b[0;34m\"username\"\u001b[0m\u001b[0;34m]\u001b[0m\u001b[0;34m,\u001b[0m\u001b[0;34m\u001b[0m\u001b[0;34m\u001b[0m\u001b[0m\n\u001b[0;32m---> 18\u001b[0;31m                                 \u001b[0;34m\"password\"\u001b[0m\u001b[0;34m:\u001b[0m \u001b[0mrepo_json\u001b[0m\u001b[0;34m[\u001b[0m\u001b[0;34m\"password\"\u001b[0m\u001b[0;34m]\u001b[0m\u001b[0;34m\u001b[0m\u001b[0;34m\u001b[0m\u001b[0m\n\u001b[0m\u001b[1;32m     19\u001b[0m \t\t}\n\u001b[1;32m     20\u001b[0m )\n",
      "\u001b[0;31mTypeError\u001b[0m: get() got an unexpected keyword argument 'body'"
     ]
    }
   ],
   "source": [
    "# Read git_setup.json\n",
    "git_setup_file_path = \"files/git_setup.json\"\n",
    "#\n",
    "# NO CHANGES REQUIRED BELOW\n",
    "#\n",
    "# Loads your git_setup.json\n",
    "with open(git_setup_file_path) as gs:\n",
    "\t\tsetup_json = json.load(gs)\n",
    "#\n",
    "# Connects your repo\n",
    "repo_json = setup_json[\"repo\"]\n",
    "response = ai_api_client.rest_client.post(\n",
    "\t\tpath=\"/admin/repositories\",\n",
    "\t\tbody={\n",
    "\t\t\t\t\"name\": repo_json[\"name\"],\n",
    "\t\t\t\t\"url\": repo_json[\"url\"],\n",
    "\t\t\t\t\"username\": repo_json[\"username\"],\n",
    "\t\t\t\t\"password\": repo_json[\"password\"]\n",
    "\t\t}\n",
    ")\n",
    "print(response)\n",
    "#\n",
    "# Registers the directory as app,\n",
    "app_json = setup_json[\"app\"]\n",
    "response = ai_api_client.rest_client.post(\n",
    "\t\tpath=\"/admin/applications\",\n",
    "\t\tbody={\n",
    "\t\t\t\t\"applicationName\": app_json[\"applicationName\"],\n",
    "\t\t\t\t\"repositoryUrl\": app_json[\"repositoryUrl\"],\n",
    "\t\t\t\t\"revision\": app_json[\"revision\"],\n",
    "\t\t\t\t\"path\": app_json[\"path\"]\n",
    "\t\t}\n",
    ")"
   ]
  },
  {
   "cell_type": "code",
   "execution_count": null,
   "metadata": {},
   "outputs": [],
   "source": []
  },
  {
   "cell_type": "code",
   "execution_count": null,
   "metadata": {},
   "outputs": [],
   "source": []
  }
 ],
 "metadata": {
  "interpreter": {
   "hash": "c730f6f3299285b5ac143781e8cec1c85fa3e5ee3066d47ed96a15c11e4fe266"
  },
  "kernelspec": {
   "display_name": "Python 3.7.11 64-bit ('ai-core': conda)",
   "name": "python3"
  },
  "language_info": {
   "codemirror_mode": {
    "name": "ipython",
    "version": 3
   },
   "file_extension": ".py",
   "mimetype": "text/x-python",
   "name": "python",
   "nbconvert_exporter": "python",
   "pygments_lexer": "ipython3",
   "version": "3.7.11"
  }
 },
 "nbformat": 4,
 "nbformat_minor": 2
}
